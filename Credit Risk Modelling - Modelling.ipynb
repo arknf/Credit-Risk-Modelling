{
 "cells": [
  {
   "cell_type": "markdown",
   "metadata": {},
   "source": [
    "### Import Libraries"
   ]
  },
  {
   "cell_type": "code",
   "execution_count": 20,
   "metadata": {},
   "outputs": [],
   "source": [
    "#basic libraries\n",
    "import numpy as np\n",
    "import pandas as pd\n",
    "import matplotlib.pyplot as plt\n",
    "import seaborn as sns\n",
    "import scipy.stats as stats\n",
    "\n",
    "#modelling libraries\n",
    "from sklearn.model_selection import train_test_split, RandomizedSearchCV, cross_val_score\n",
    "from sklearn.linear_model import LogisticRegression\n",
    "from xgboost import XGBClassifier\n",
    "from sklearn.neighbors import KNeighborsClassifier\n",
    "from sklearn.ensemble import RandomForestClassifier\n",
    "from sklearn.metrics import classification_report, accuracy_score, roc_auc_score, confusion_matrix\n",
    "\n",
    "#ignore warnings\n",
    "import warnings\n",
    "warnings.filterwarnings('ignore')"
   ]
  },
  {
   "cell_type": "markdown",
   "metadata": {},
   "source": [
    "### Import Data"
   ]
  },
  {
   "cell_type": "code",
   "execution_count": 22,
   "metadata": {},
   "outputs": [],
   "source": [
    "#training data\n",
    "X_train_resampled = pd.read_csv('./X_train_resampled.csv')\n",
    "y_train_resampled = pd.read_csv('./y_train_resampled.csv')\n",
    "\n",
    "#test data\n",
    "X_test_final = pd.read_csv('./X_test_final.csv')\n",
    "y_test = pd.read_csv('./y_test.csv')\n",
    "\n",
    "#training data before resampled\n",
    "X_train_final = pd.read_csv('./X_train_final.csv')\n",
    "y_train = pd.read_csv('./y_train_final.csv')"
   ]
  },
  {
   "cell_type": "markdown",
   "metadata": {},
   "source": [
    "### Basic Model"
   ]
  },
  {
   "cell_type": "markdown",
   "metadata": {},
   "source": [
    "#### Logistic Regression"
   ]
  },
  {
   "cell_type": "code",
   "execution_count": 29,
   "metadata": {},
   "outputs": [],
   "source": [
    "#model fitting\n",
    "lr = LogisticRegression()\n",
    "lr.fit(X_train_resampled, y_train_resampled)\n",
    "\n",
    "#predict values\n",
    "lr_pred = lr.predict(X_test_final)"
   ]
  },
  {
   "cell_type": "code",
   "execution_count": 30,
   "metadata": {},
   "outputs": [
    {
     "data": {
      "image/png": "[encoded data removed]",
      "text/plain": [
       "<Figure size 576x360 with 2 Axes>"
      ]
     },
     "metadata": {
      "needs_background": "light"
     },
     "output_type": "display_data"
    }
   ],
   "source": [
    "f, ax = plt.subplots(figsize=(8,5))\n",
    "sns.heatmap(confusion_matrix(y_test, lr_pred), annot=True, fmt='.0f', ax=ax)\n",
    "plt.xlabel('Predicted Values')\n",
    "plt.ylabel('Actual Values')\n",
    "plt.show()"
   ]
  },
  {
   "cell_type": "code",
   "execution_count": 31,
   "metadata": {},
   "outputs": [
    {
     "name": "stdout",
     "output_type": "stream",
     "text": [
      "              precision    recall  f1-score   support\n",
      "\n",
      "           0       0.96      0.68      0.80     13558\n",
      "           1       0.15      0.65      0.25      1203\n",
      "\n",
      "    accuracy                           0.68     14761\n",
      "   macro avg       0.55      0.66      0.52     14761\n",
      "weighted avg       0.89      0.68      0.75     14761\n",
      "\n",
      "ROC_AUC_Score 0.6643377664900049\n",
      "Model Score (Train data) 0.6743110340679945\n",
      "Model Score (Test data) 0.6790867827382968\n"
     ]
    }
   ],
   "source": [
    "print(classification_report(y_test, lr_pred))\n",
    "print(\"ROC_AUC_Score\", roc_auc_score(y_test, lr_pred))\n",
    "print(\"Model Score (Train data)\", lr.score(X_train_resampled, y_train_resampled))\n",
    "print(\"Model Score (Test data)\", lr.score(X_test_final, y_test))"
   ]
  },
  {
   "cell_type": "markdown",
   "metadata": {},
   "source": [
    "#### KNnearestNeighborClassifier"
   ]
  },
  {
   "cell_type": "code",
   "execution_count": 6,
   "metadata": {},
   "outputs": [],
   "source": [
    "#model fitting\n",
    "knn = KNeighborsClassifier()\n",
    "knn.fit(X_train_resampled, y_train_resampled)\n",
    "\n",
    "#predict values\n",
    "knn_pred = knn.predict(X_test_final)"
   ]
  },
  {
   "cell_type": "code",
   "execution_count": 7,
   "metadata": {},
   "outputs": [
    {
     "data": {
      "image/png": "[encoded data removed]",
      "text/plain": [
       "<Figure size 576x360 with 2 Axes>"
      ]
     },
     "metadata": {
      "needs_background": "light"
     },
     "output_type": "display_data"
    }
   ],
   "source": [
    "f, ax = plt.subplots(figsize=(8,5))\n",
    "sns.heatmap(confusion_matrix(y_test, knn_pred), annot=True, fmt='.0f', ax=ax)\n",
    "plt.xlabel('Predicted Values')\n",
    "plt.ylabel('Actual Values')\n",
    "plt.show()"
   ]
  },
  {
   "cell_type": "code",
   "execution_count": 8,
   "metadata": {},
   "outputs": [
    {
     "name": "stdout",
     "output_type": "stream",
     "text": [
      "              precision    recall  f1-score   support\n",
      "\n",
      "           0       0.93      0.73      0.82     13558\n",
      "           1       0.12      0.40      0.18      1203\n",
      "\n",
      "    accuracy                           0.70     14761\n",
      "   macro avg       0.52      0.57      0.50     14761\n",
      "weighted avg       0.87      0.70      0.77     14761\n",
      "\n",
      "ROC_AUC_Score 0.5663625270795574\n"
     ]
    }
   ],
   "source": [
    "print(classification_report(y_test, knn_pred))\n",
    "print(\"ROC_AUC_Score\", roc_auc_score(y_test, knn_pred))"
   ]
  },
  {
   "cell_type": "markdown",
   "metadata": {},
   "source": [
    "#### XGBClasifier"
   ]
  },
  {
   "cell_type": "code",
   "execution_count": 9,
   "metadata": {},
   "outputs": [
    {
     "name": "stdout",
     "output_type": "stream",
     "text": [
      "[17:38:45] WARNING: ..\\src\\learner.cc:1115: Starting in XGBoost 1.3.0, the default evaluation metric used with the objective 'binary:logistic' was changed from 'error' to 'logloss'. Explicitly set eval_metric if you'd like to restore the old behavior.\n"
     ]
    }
   ],
   "source": [
    "#model fitting\n",
    "xgb = XGBClassifier()\n",
    "xgb.fit(X_train_resampled, y_train_resampled)\n",
    "\n",
    "#predict values\n",
    "xgb_pred = xgb.predict(X_test_final)"
   ]
  },
  {
   "cell_type": "code",
   "execution_count": 10,
   "metadata": {},
   "outputs": [
    {
     "data": {
      "image/png": "[encoded data removed]",
      "text/plain": [
       "<Figure size 576x360 with 2 Axes>"
      ]
     },
     "metadata": {
      "needs_background": "light"
     },
     "output_type": "display_data"
    }
   ],
   "source": [
    "f, ax = plt.subplots(figsize=(8,5))\n",
    "sns.heatmap(confusion_matrix(y_test, xgb_pred), annot=True, fmt='.0f', ax=ax)\n",
    "plt.xlabel('Predicted Values')\n",
    "plt.ylabel('Actual Values')\n",
    "plt.show()"
   ]
  },
  {
   "cell_type": "code",
   "execution_count": 11,
   "metadata": {},
   "outputs": [
    {
     "name": "stdout",
     "output_type": "stream",
     "text": [
      "              precision    recall  f1-score   support\n",
      "\n",
      "           0       0.93      0.87      0.90     13558\n",
      "           1       0.17      0.32      0.22      1203\n",
      "\n",
      "    accuracy                           0.82     14761\n",
      "   macro avg       0.55      0.59      0.56     14761\n",
      "weighted avg       0.87      0.82      0.84     14761\n",
      "\n",
      "ROC_AUC_Score 0.5919556900147722\n",
      "Model Score (Train data) 0.8862277567481516\n",
      "Model Score (Test data) 0.8209470903055348\n"
     ]
    }
   ],
   "source": [
    "print(classification_report(y_test, xgb_pred))\n",
    "print(\"ROC_AUC_Score\", roc_auc_score(y_test, xgb_pred))\n",
    "print(\"Model Score (Train data)\", xgb.score(X_train_resampled, y_train_resampled))\n",
    "print(\"Model Score (Test data)\", xgb.score(X_test_final, y_test))"
   ]
  },
  {
   "cell_type": "markdown",
   "metadata": {},
   "source": [
    "#### RandomForestClassifier"
   ]
  },
  {
   "cell_type": "code",
   "execution_count": 13,
   "metadata": {},
   "outputs": [],
   "source": [
    "#model fitting\n",
    "rf = RandomForestClassifier()\n",
    "rf.fit(X_train_resampled, y_train_resampled)\n",
    "\n",
    "#predict values\n",
    "rf_pred = rf.predict(X_test_final)"
   ]
  },
  {
   "cell_type": "code",
   "execution_count": 14,
   "metadata": {},
   "outputs": [
    {
     "data": {
      "image/png": "[encoded data removed]",
      "text/plain": [
       "<Figure size 576x360 with 2 Axes>"
      ]
     },
     "metadata": {
      "needs_background": "light"
     },
     "output_type": "display_data"
    }
   ],
   "source": [
    "f, ax = plt.subplots(figsize=(8,5))\n",
    "sns.heatmap(confusion_matrix(y_test,rf_pred), annot=True, fmt='.0f', ax=ax)\n",
    "plt.xlabel('Predicted Values')\n",
    "plt.ylabel('Actual Values')\n",
    "plt.show()"
   ]
  },
  {
   "cell_type": "code",
   "execution_count": 15,
   "metadata": {},
   "outputs": [
    {
     "name": "stdout",
     "output_type": "stream",
     "text": [
      "              precision    recall  f1-score   support\n",
      "\n",
      "           0       0.93      0.92      0.93     13558\n",
      "           1       0.19      0.21      0.20      1203\n",
      "\n",
      "    accuracy                           0.87     14761\n",
      "   macro avg       0.56      0.56      0.56     14761\n",
      "weighted avg       0.87      0.87      0.87     14761\n",
      "\n",
      "ROC_AUC_Score 0.5646381844964714\n",
      "Model Score (Train data) 1.0\n",
      "Model Score (Test data) 0.8653885238127498\n"
     ]
    }
   ],
   "source": [
    "print(classification_report(y_test, rf_pred))\n",
    "print(\"ROC_AUC_Score\", roc_auc_score(y_test, rf_pred))\n",
    "print(\"Model Score (Train data)\", rf.score(X_train_resampled, y_train_resampled))\n",
    "print(\"Model Score (Test data)\", rf.score(X_test_final, y_test))"
   ]
  },
  {
   "cell_type": "markdown",
   "metadata": {},
   "source": [
    "### Tuned Model"
   ]
  },
  {
   "cell_type": "markdown",
   "metadata": {},
   "source": [
    "#### Logistic Regression"
   ]
  },
  {
   "cell_type": "markdown",
   "metadata": {},
   "source": [
    "The LogisticRegression machine learning algorithm does not have a parameter that is significant enough to make the machine learning model perform better, but it might change a little. \n",
    "\n",
    "In making this machine learning model, I will not try tuning LogisticRegression because the results will not change much and also based on the results of the basic model, the accuracy of this model is far below other models."
   ]
  },
  {
   "cell_type": "markdown",
   "metadata": {},
   "source": [
    "#### KNeighborsClassifier"
   ]
  },
  {
   "cell_type": "markdown",
   "metadata": {},
   "source": [
    "The KNeighborsClassifier algorithm is the same. Although there are neighboring parameters that might improve the performance of the machine learning model created, the accuracy and f1-score values ​​are far below the other two models, so I decided not to tune this algorithm."
   ]
  },
  {
   "cell_type": "markdown",
   "metadata": {},
   "source": [
    "#### XGBClassifier"
   ]
  },
  {
   "cell_type": "code",
   "execution_count": 37,
   "metadata": {},
   "outputs": [
    {
     "name": "stdout",
     "output_type": "stream",
     "text": [
      "Fitting 3 folds for each of 10 candidates, totalling 30 fits\n"
     ]
    },
    {
     "name": "stderr",
     "output_type": "stream",
     "text": [
      "[Parallel(n_jobs=-1)]: Using backend LokyBackend with 12 concurrent workers.\n",
      "[Parallel(n_jobs=-1)]: Done  18 out of  30 | elapsed:  6.1min remaining:  4.1min\n",
      "[Parallel(n_jobs=-1)]: Done  30 out of  30 | elapsed:  8.5min finished\n"
     ]
    },
    {
     "name": "stdout",
     "output_type": "stream",
     "text": [
      "[18:43:10] WARNING: ..\\src\\learner.cc:1115: Starting in XGBoost 1.3.0, the default evaluation metric used with the objective 'binary:logistic' was changed from 'error' to 'logloss'. Explicitly set eval_metric if you'd like to restore the old behavior.\n"
     ]
    },
    {
     "data": {
      "text/plain": [
       "RandomizedSearchCV(cv=3,\n",
       "                   estimator=XGBClassifier(base_score=None, booster=None,\n",
       "                                           colsample_bylevel=None,\n",
       "                                           colsample_bynode=None,\n",
       "                                           colsample_bytree=None,\n",
       "                                           enable_categorical=False, gamma=None,\n",
       "                                           gpu_id=None, importance_type=None,\n",
       "                                           interaction_constraints=None,\n",
       "                                           learning_rate=None,\n",
       "                                           max_delta_step=None, max_depth=None,\n",
       "                                           min_child_weight=None, missing=nan,\n",
       "                                           monotone_constraints...\n",
       "                   param_distributions={'colsample_bytree': <scipy.stats._distn_infrastructure.rv_frozen object at 0x00000245B3E3C0D0>,\n",
       "                                        'learning_rate': <scipy.stats._distn_infrastructure.rv_frozen object at 0x00000245B3C87E80>,\n",
       "                                        'max_depth': [3, 4, 5, 6, 7, 8, 9],\n",
       "                                        'min_child_weight': [1, 2, 3, 4],\n",
       "                                        'n_estimators': <scipy.stats._distn_infrastructure.rv_frozen object at 0x00000245B3E90E80>,\n",
       "                                        'subsample': <scipy.stats._distn_infrastructure.rv_frozen object at 0x00000245B3E1CB80>},\n",
       "                   scoring='roc_auc', verbose=3)"
      ]
     },
     "execution_count": 37,
     "metadata": {},
     "output_type": "execute_result"
    }
   ],
   "source": [
    "param_dist = {'n_estimators': stats.randint(150, 1000),\n",
    "              'learning_rate': stats.uniform(0.01, 0.59),\n",
    "              'subsample': stats.uniform(0.3, 0.6),\n",
    "              'max_depth': [3, 4, 5, 6, 7, 8, 9],\n",
    "              'colsample_bytree': stats.uniform(0.5, 0.4),\n",
    "              'min_child_weight': [1, 2, 3, 4]\n",
    "             }\n",
    "\n",
    "#define model\n",
    "xgb = XGBClassifier()\n",
    "RANDOM_xgb = RandomizedSearchCV(xgb, \n",
    "                         param_distributions = param_dist,\n",
    "                         cv = 3,\n",
    "                         scoring = 'roc_auc', \n",
    "                         verbose = 3, \n",
    "                         n_jobs = -1)\n",
    "\n",
    "#model fitting\n",
    "RANDOM_xgb.fit(X_train_resampled, y_train_resampled)\n"
   ]
  },
  {
   "cell_type": "code",
   "execution_count": 38,
   "metadata": {},
   "outputs": [
    {
     "name": "stdout",
     "output_type": "stream",
     "text": [
      "{'colsample_bytree': 0.6252336567550457, 'learning_rate': 0.35192718845299137, 'max_depth': 8, 'min_child_weight': 2, 'n_estimators': 382, 'subsample': 0.5699195758248161}\n"
     ]
    }
   ],
   "source": [
    "print(RANDOM_xgb.best_params_)\n",
    "\n",
    "#predict\n",
    "tuned_xgb_pred = RANDOM_xgb.predict(X_test_final)"
   ]
  },
  {
   "cell_type": "code",
   "execution_count": 39,
   "metadata": {},
   "outputs": [
    {
     "data": {
      "image/png": "[encoded data removed]",
      "text/plain": [
       "<Figure size 576x360 with 2 Axes>"
      ]
     },
     "metadata": {
      "needs_background": "light"
     },
     "output_type": "display_data"
    }
   ],
   "source": [
    "f, ax = plt.subplots(figsize=(8,5))\n",
    "sns.heatmap(confusion_matrix(y_test,tuned_xgb_pred), annot=True, fmt='.0f', ax=ax)\n",
    "plt.xlabel('Predicted Values')\n",
    "plt.ylabel('Actual Values')\n",
    "plt.show()"
   ]
  },
  {
   "cell_type": "code",
   "execution_count": 40,
   "metadata": {},
   "outputs": [
    {
     "name": "stdout",
     "output_type": "stream",
     "text": [
      "              precision    recall  f1-score   support\n",
      "\n",
      "           0       0.92      0.95      0.94     13558\n",
      "           1       0.18      0.13      0.15      1203\n",
      "\n",
      "    accuracy                           0.88     14761\n",
      "   macro avg       0.55      0.54      0.54     14761\n",
      "weighted avg       0.86      0.88      0.87     14761\n",
      "\n",
      "ROC_AUC_Score 0.5380879867499466\n",
      "Model Score (Train data) 0.9996259897813817\n",
      "Model Score (Test data) 0.6437745619724108\n"
     ]
    }
   ],
   "source": [
    "print(classification_report(y_test, tuned_xgb_pred))\n",
    "print(\"ROC_AUC_Score\", roc_auc_score(y_test, tuned_xgb_pred))\n",
    "print(\"Model Score (Train data)\", RANDOM_xgb.score(X_train_resampled, y_train_resampled))\n",
    "print(\"Model Score (Test data)\", RANDOM_xgb.score(X_test_final, y_test))"
   ]
  },
  {
   "cell_type": "markdown",
   "metadata": {},
   "source": [
    "#### RandomForestClassifier"
   ]
  },
  {
   "cell_type": "code",
   "execution_count": 41,
   "metadata": {},
   "outputs": [
    {
     "name": "stdout",
     "output_type": "stream",
     "text": [
      "Fitting 3 folds for each of 10 candidates, totalling 30 fits\n",
      "[CV] n_estimators=400, min_samples_split=2, min_samples_leaf=1, max_depth=30 \n"
     ]
    },
    {
     "name": "stderr",
     "output_type": "stream",
     "text": [
      "[Parallel(n_jobs=1)]: Using backend SequentialBackend with 1 concurrent workers.\n"
     ]
    },
    {
     "name": "stdout",
     "output_type": "stream",
     "text": [
      "[CV]  n_estimators=400, min_samples_split=2, min_samples_leaf=1, max_depth=30, score=0.968, total= 2.3min\n",
      "[CV] n_estimators=400, min_samples_split=2, min_samples_leaf=1, max_depth=30 \n"
     ]
    },
    {
     "name": "stderr",
     "output_type": "stream",
     "text": [
      "[Parallel(n_jobs=1)]: Done   1 out of   1 | elapsed:  2.3min remaining:    0.0s\n"
     ]
    },
    {
     "name": "stdout",
     "output_type": "stream",
     "text": [
      "[CV]  n_estimators=400, min_samples_split=2, min_samples_leaf=1, max_depth=30, score=0.980, total= 2.1min\n",
      "[CV] n_estimators=400, min_samples_split=2, min_samples_leaf=1, max_depth=30 \n"
     ]
    },
    {
     "name": "stderr",
     "output_type": "stream",
     "text": [
      "[Parallel(n_jobs=1)]: Done   2 out of   2 | elapsed:  4.4min remaining:    0.0s\n"
     ]
    },
    {
     "name": "stdout",
     "output_type": "stream",
     "text": [
      "[CV]  n_estimators=400, min_samples_split=2, min_samples_leaf=1, max_depth=30, score=0.980, total= 2.2min\n",
      "[CV] n_estimators=200, min_samples_split=10, min_samples_leaf=1, max_depth=90 \n",
      "[CV]  n_estimators=200, min_samples_split=10, min_samples_leaf=1, max_depth=90, score=0.957, total= 1.1min\n",
      "[CV] n_estimators=200, min_samples_split=10, min_samples_leaf=1, max_depth=90 \n",
      "[CV]  n_estimators=200, min_samples_split=10, min_samples_leaf=1, max_depth=90, score=0.972, total= 1.1min\n",
      "[CV] n_estimators=200, min_samples_split=10, min_samples_leaf=1, max_depth=90 \n",
      "[CV]  n_estimators=200, min_samples_split=10, min_samples_leaf=1, max_depth=90, score=0.972, total= 1.1min\n",
      "[CV] n_estimators=1800, min_samples_split=5, min_samples_leaf=4, max_depth=90 \n",
      "[CV]  n_estimators=1800, min_samples_split=5, min_samples_leaf=4, max_depth=90, score=0.951, total= 9.7min\n",
      "[CV] n_estimators=1800, min_samples_split=5, min_samples_leaf=4, max_depth=90 \n",
      "[CV]  n_estimators=1800, min_samples_split=5, min_samples_leaf=4, max_depth=90, score=0.968, total= 9.4min\n",
      "[CV] n_estimators=1800, min_samples_split=5, min_samples_leaf=4, max_depth=90 \n",
      "[CV]  n_estimators=1800, min_samples_split=5, min_samples_leaf=4, max_depth=90, score=0.968, total= 9.2min\n",
      "[CV] n_estimators=1200, min_samples_split=5, min_samples_leaf=4, max_depth=70 \n",
      "[CV]  n_estimators=1200, min_samples_split=5, min_samples_leaf=4, max_depth=70, score=0.951, total= 5.6min\n",
      "[CV] n_estimators=1200, min_samples_split=5, min_samples_leaf=4, max_depth=70 \n",
      "[CV]  n_estimators=1200, min_samples_split=5, min_samples_leaf=4, max_depth=70, score=0.968, total= 5.2min\n",
      "[CV] n_estimators=1200, min_samples_split=5, min_samples_leaf=4, max_depth=70 \n",
      "[CV]  n_estimators=1200, min_samples_split=5, min_samples_leaf=4, max_depth=70, score=0.968, total= 6.1min\n",
      "[CV] n_estimators=1400, min_samples_split=2, min_samples_leaf=2, max_depth=100 \n",
      "[CV]  n_estimators=1400, min_samples_split=2, min_samples_leaf=2, max_depth=100, score=0.965, total= 7.6min\n",
      "[CV] n_estimators=1400, min_samples_split=2, min_samples_leaf=2, max_depth=100 \n",
      "[CV]  n_estimators=1400, min_samples_split=2, min_samples_leaf=2, max_depth=100, score=0.977, total= 7.0min\n",
      "[CV] n_estimators=1400, min_samples_split=2, min_samples_leaf=2, max_depth=100 \n",
      "[CV]  n_estimators=1400, min_samples_split=2, min_samples_leaf=2, max_depth=100, score=0.977, total= 7.0min\n",
      "[CV] n_estimators=1600, min_samples_split=10, min_samples_leaf=2, max_depth=10 \n",
      "[CV]  n_estimators=1600, min_samples_split=10, min_samples_leaf=2, max_depth=10, score=0.837, total= 4.9min\n",
      "[CV] n_estimators=1600, min_samples_split=10, min_samples_leaf=2, max_depth=10 \n",
      "[CV]  n_estimators=1600, min_samples_split=10, min_samples_leaf=2, max_depth=10, score=0.863, total= 4.8min\n",
      "[CV] n_estimators=1600, min_samples_split=10, min_samples_leaf=2, max_depth=10 \n",
      "[CV]  n_estimators=1600, min_samples_split=10, min_samples_leaf=2, max_depth=10, score=0.861, total= 4.8min\n",
      "[CV] n_estimators=800, min_samples_split=10, min_samples_leaf=4, max_depth=100 \n",
      "[CV]  n_estimators=800, min_samples_split=10, min_samples_leaf=4, max_depth=100, score=0.948, total= 4.2min\n",
      "[CV] n_estimators=800, min_samples_split=10, min_samples_leaf=4, max_depth=100 \n",
      "[CV]  n_estimators=800, min_samples_split=10, min_samples_leaf=4, max_depth=100, score=0.966, total= 4.0min\n",
      "[CV] n_estimators=800, min_samples_split=10, min_samples_leaf=4, max_depth=100 \n",
      "[CV]  n_estimators=800, min_samples_split=10, min_samples_leaf=4, max_depth=100, score=0.966, total= 4.0min\n",
      "[CV] n_estimators=1800, min_samples_split=10, min_samples_leaf=2, max_depth=50 \n",
      "[CV]  n_estimators=1800, min_samples_split=10, min_samples_leaf=2, max_depth=50, score=0.954, total= 8.9min\n",
      "[CV] n_estimators=1800, min_samples_split=10, min_samples_leaf=2, max_depth=50 \n",
      "[CV]  n_estimators=1800, min_samples_split=10, min_samples_leaf=2, max_depth=50, score=0.970, total= 9.5min\n",
      "[CV] n_estimators=1800, min_samples_split=10, min_samples_leaf=2, max_depth=50 \n",
      "[CV]  n_estimators=1800, min_samples_split=10, min_samples_leaf=2, max_depth=50, score=0.971, total= 9.7min\n",
      "[CV] n_estimators=200, min_samples_split=2, min_samples_leaf=2, max_depth=10 \n",
      "[CV]  n_estimators=200, min_samples_split=2, min_samples_leaf=2, max_depth=10, score=0.838, total=  39.4s\n",
      "[CV] n_estimators=200, min_samples_split=2, min_samples_leaf=2, max_depth=10 \n",
      "[CV]  n_estimators=200, min_samples_split=2, min_samples_leaf=2, max_depth=10, score=0.863, total=  38.7s\n",
      "[CV] n_estimators=200, min_samples_split=2, min_samples_leaf=2, max_depth=10 \n",
      "[CV]  n_estimators=200, min_samples_split=2, min_samples_leaf=2, max_depth=10, score=0.860, total=  38.8s\n",
      "[CV] n_estimators=200, min_samples_split=10, min_samples_leaf=2, max_depth=70 \n",
      "[CV]  n_estimators=200, min_samples_split=10, min_samples_leaf=2, max_depth=70, score=0.953, total= 1.1min\n",
      "[CV] n_estimators=200, min_samples_split=10, min_samples_leaf=2, max_depth=70 \n",
      "[CV]  n_estimators=200, min_samples_split=10, min_samples_leaf=2, max_depth=70, score=0.969, total= 1.1min\n",
      "[CV] n_estimators=200, min_samples_split=10, min_samples_leaf=2, max_depth=70 \n",
      "[CV]  n_estimators=200, min_samples_split=10, min_samples_leaf=2, max_depth=70, score=0.970, total= 1.1min\n"
     ]
    },
    {
     "name": "stderr",
     "output_type": "stream",
     "text": [
      "[Parallel(n_jobs=1)]: Done  30 out of  30 | elapsed: 136.6min finished\n"
     ]
    },
    {
     "data": {
      "text/plain": [
       "RandomizedSearchCV(cv=3, estimator=RandomForestClassifier(),\n",
       "                   param_distributions={'max_depth': [10, 30, 50, 70, 90, 100],\n",
       "                                        'min_samples_leaf': [1, 2, 4],\n",
       "                                        'min_samples_split': [2, 5, 10],\n",
       "                                        'n_estimators': [200, 400, 600, 800,\n",
       "                                                         1000, 1200, 1400, 1600,\n",
       "                                                         1800, 2000]},\n",
       "                   scoring='roc_auc', verbose=3)"
      ]
     },
     "execution_count": 41,
     "metadata": {},
     "output_type": "execute_result"
    }
   ],
   "source": [
    "max_depth = [10, 30, 50, 70, 90, 100]\n",
    "min_samples_leaf = [1, 2, 4]\n",
    "min_samples_split = [2, 5, 10]\n",
    "n_estimators = [200, 400, 600, 800, 1000, 1200, 1400, 1600, 1800, 2000]\n",
    "\n",
    "param = {'n_estimators': n_estimators,\n",
    "               'max_depth': max_depth,\n",
    "               'min_samples_split': min_samples_split,\n",
    "               'min_samples_leaf': min_samples_leaf}\n",
    "\n",
    "#define model\n",
    "rf = RandomForestClassifier()\n",
    "Random_RF = RandomizedSearchCV(estimator = rf, param_distributions = param, scoring = 'roc_auc', cv = 3, verbose = 3)\n",
    "\n",
    "#model fitting\n",
    "Random_RF.fit(X_train_resampled, y_train_resampled)"
   ]
  },
  {
   "cell_type": "code",
   "execution_count": 44,
   "metadata": {},
   "outputs": [
    {
     "name": "stdout",
     "output_type": "stream",
     "text": [
      "{'n_estimators': 400, 'min_samples_split': 2, 'min_samples_leaf': 1, 'max_depth': 30}\n"
     ]
    }
   ],
   "source": [
    "print(Random_RF.best_params_)\n",
    "\n",
    "#predict\n",
    "tuned_RF_pred = Random_RF.predict(X_test_final)"
   ]
  },
  {
   "cell_type": "code",
   "execution_count": 45,
   "metadata": {},
   "outputs": [
    {
     "data": {
      "image/png": "[encoded data removed]",
      "text/plain": [
       "<Figure size 576x360 with 2 Axes>"
      ]
     },
     "metadata": {
      "needs_background": "light"
     },
     "output_type": "display_data"
    }
   ],
   "source": [
    "f, ax = plt.subplots(figsize=(8,5))\n",
    "sns.heatmap(confusion_matrix(y_test,tuned_RF_pred), annot=True, fmt='.0f', ax=ax)\n",
    "plt.xlabel('Predicted Values')\n",
    "plt.ylabel('Actual Values')\n",
    "plt.show()"
   ]
  },
  {
   "cell_type": "code",
   "execution_count": 48,
   "metadata": {},
   "outputs": [
    {
     "name": "stdout",
     "output_type": "stream",
     "text": [
      "              precision    recall  f1-score   support\n",
      "\n",
      "           0       0.93      0.91      0.92     13558\n",
      "           1       0.19      0.24      0.21      1203\n",
      "\n",
      "    accuracy                           0.86     14761\n",
      "   macro avg       0.56      0.57      0.57     14761\n",
      "weighted avg       0.87      0.86      0.86     14761\n",
      "\n",
      "ROC_AUC_Score 0.5743640174285239\n",
      "Model Score (Train data) 0.9999996467562287\n",
      "Model Score (Test data) 0.6891532907417742\n"
     ]
    }
   ],
   "source": [
    "print(classification_report(y_test, tuned_RF_pred))\n",
    "print(\"ROC_AUC_Score\", roc_auc_score(y_test, tuned_RF_pred))"
   ]
  },
  {
   "cell_type": "code",
   "execution_count": 47,
   "metadata": {},
   "outputs": [
    {
     "name": "stdout",
     "output_type": "stream",
     "text": [
      "Model Score (Train data) 0.9999996467562287\n",
      "Model Score (Test data) 0.6891532907417742\n"
     ]
    }
   ],
   "source": [
    "print(\"Model Score (Train data)\", Random_RF.score(X_train_resampled, y_train_resampled))\n",
    "print(\"Model Score (Test data)\", Random_RF.score(X_test_final, y_test))"
   ]
  },
  {
   "cell_type": "markdown",
   "metadata": {},
   "source": [
    "### **Conclusion**"
   ]
  },
  {
   "cell_type": "markdown",
   "metadata": {},
   "source": [
    "Based on the basic model, machine learning models that have high accuracy values, F1, ROC_AUC and precision are XGBClassifier and RandomForestClassifier models, while the other two models are far below."
   ]
  },
  {
   "cell_type": "markdown",
   "metadata": {},
   "source": [
    "Based on the tuning results, the XGBClassifier model experienced a significant increase in accuracy but the ROC_AUC value decreased. Meanwhile, the RandomForestClassifier model experienced an increasing ROC_AUC value and the other values ​​were relatively the same."
   ]
  },
  {
   "cell_type": "markdown",
   "metadata": {},
   "source": [
    "So it can be concluded that the **RandomForestClassifier** model that has been tuned is the best model that can be obtained."
   ]
  },
  {
   "cell_type": "markdown",
   "metadata": {},
   "source": [
    "*The model obtained is still far from perfect, so there are still many ways that can be done to improve the performance of the model, such as the undersampling technique that has not been tried, more feature engineering, more thorough feature selection, and improvement in handling lost values.*"
   ]
  },
  {
   "cell_type": "markdown",
   "metadata": {},
   "source": []
  }
 ],
 "metadata": {
  "interpreter": {
   "hash": "ad2bdc8ecc057115af97d19610ffacc2b4e99fae6737bb82f5d7fb13d2f2c186"
  },
  "kernelspec": {
   "display_name": "Python 3",
   "language": "python",
   "name": "python3"
  },
  "language_info": {
   "codemirror_mode": {
    "name": "ipython",
    "version": 3
   },
   "file_extension": ".py",
   "mimetype": "text/x-python",
   "name": "python",
   "nbconvert_exporter": "python",
   "pygments_lexer": "ipython3",
   "version": "3.8.5"
  }
 },
 "nbformat": 4,
 "nbformat_minor": 4
}
